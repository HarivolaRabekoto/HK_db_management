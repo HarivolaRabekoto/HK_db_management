{
 "cells": [
  {
   "cell_type": "code",
   "execution_count": 1,
   "metadata": {},
   "outputs": [],
   "source": [
    "import pandas as pd\n",
    "import sqlite3"
   ]
  },
  {
   "cell_type": "code",
   "execution_count": 2,
   "metadata": {},
   "outputs": [],
   "source": [
    "#établissement de la connexion à la base de données et création du curseur\n",
    "conn = sqlite3.connect(\"haikintana.db\")\n",
    "c= conn.cursor()\n",
    "#conn.row_factory=sqlite3.Row"
   ]
  },
  {
   "cell_type": "code",
   "execution_count": 4,
   "metadata": {},
   "outputs": [
    {
     "data": {
      "text/plain": [
       "<sqlite3.Cursor at 0x164f9561730>"
      ]
     },
     "execution_count": 4,
     "metadata": {},
     "output_type": "execute_result"
    }
   ],
   "source": [
    "#création des tables\n",
    "c.execute(\"CREATE TABLE IF NOT EXISTS membre (ID text PRIMARY KEY, cotisation text, nom text, prénoms text, email text, bénévolat text)\")\n",
    "c.execute(\"CREATE TABLE IF NOT EXISTS activité(intitulé text PRIMARY KEY, date text, lieu text)\")\n",
    "c.execute(\"CREATE TABLE IF NOT EXISTS pôle(nom_pôle text PRIMARY KEY, nombre_activités integer)\")\n",
    "c.execute(\"CREATE TABLE IF NOT EXISTS membre_activité(ID_membre text, activité text , FOREIGN KEY (ID_membre) REFERENCES membre(ID), FOREIGN KEY (activité) REFERENCES activité(intitulé), PRIMARY KEY(ID_membre, activité))\")\n",
    "c.execute(\"CREATE TABLE IF NOT EXISTS membre_pôle(ID_membre text, pôle text, FOREIGN KEY (ID_membre) REFERENCES membre(ID), FOREIGN KEY (pôle) REFERENCES pôle(nom_pôle), PRIMARY KEY(ID_membre, pôle))\")\n",
    "c.execute(\"CREATE TABLE IF NOT EXISTS pôle_activité(pôle text, activité text, FOREIGN KEY (pôle) REFERENCES pôle(nom_pôle), FOREIGN KEY (activité) REFERENCES activité(intitulé), PRIMARY KEY(pôle, activité))\")"
   ]
  },
  {
   "cell_type": "code",
   "execution_count": 5,
   "metadata": {},
   "outputs": [
    {
     "name": "stdout",
     "output_type": "stream",
     "text": [
      "         ID                  Cotisation                        Nom  \\\n",
      "0   HK-0000                         NaN                 RAZANAKOTO   \n",
      "1   HK-0001                         NaN              RAJAONARIVELO   \n",
      "2   HK-0002                         NaN                Ralambomamy   \n",
      "3   HK-0003                         NaN             Rafieferantsoa   \n",
      "4   HK-0004                         NaN                  Rabarison   \n",
      "5   HK-0005                        payé             Andriamandroso   \n",
      "6   HK-0006                         NaN                  Rakotoson   \n",
      "7   HK-0007                   durant AG                    RABEONY   \n",
      "8   HK-0008                   durant AG          Randriamanantena    \n",
      "9   HK-0009                   durant AG           RANDRIAMANANTENA   \n",
      "10  HK-0010               mvola(09mars)                 Rambeloson   \n",
      "11  HK-0011                   durant AG            IALISOLONDRAIBE   \n",
      "12  HK-0012                   durant AG         randrianandrasana    \n",
      "13  HK-0013                   durant AG            RANDRIAMANARIVO   \n",
      "14  HK-0014                         NaN         Randrianandrasana    \n",
      "15  HK-0015                         NaN  RAMILIJAONA FANIRIANTSOA    \n",
      "16  HK-0016                   durant AG              Ratisarijaona   \n",
      "17  HK-0017                         NaN                Andriamady    \n",
      "18  HK-0018                   durant AG              FITIA NEKENA    \n",
      "19  HK-0019                         NaN           Rakotondramanana   \n",
      "20  HK-0020                   durant AG              RAHARILAVITRA   \n",
      "21  HK-0021               mvola(09mars)            RAMANOELINIRINA   \n",
      "22  HK-0022                         NaN              RAZANADRAKOTO   \n",
      "23  HK-0023   18mars(formation lunette)                   Rabehaja   \n",
      "24  HK-0024                   durant AG         Andriantsialonina    \n",
      "25  HK-0025                   durant AG        Rakotonomenjanahary   \n",
      "26  HK-0026                         NaN             FITIA MANAMPY    \n",
      "27  HK-0027                         NaN   Noohrfadjan Bibi Ismaël    \n",
      "28  HK-0028                         NaN                 RAZANAKOTO   \n",
      "29  HK-0029                   durant AG            Randriamanalina   \n",
      "30  HK-0030                   durant AG           Randrianandraina   \n",
      "31  HK-0031                   durant AG            RANDRIAHARIMINO   \n",
      "32  HK-0032                   durant AG           RASOLOFOMANDIMBY   \n",
      "33  HK-0033             mvola (21 mars)               Rakotoarisoa   \n",
      "34  HK-0034                         NaN                  RABARISON   \n",
      "35  HK-0035                       mvola                  RABEKOTO    \n",
      "36  HK-0036                   Durant AG              RATSIMANDRESY   \n",
      "37  HK-0037                   Durant AG          NARINDRANJANAHARY   \n",
      "38  HK-0038                   durant AG                  RABARISOA   \n",
      "39  HK-0039                         NaN                    TANTELY   \n",
      "40  HK-0040                         NaN            RALAIMANAMPISOA   \n",
      "41  HK-0041          Mvola (20 fevrier)              RAZAFINDRAIBE   \n",
      "42  HK-0042               Mvola (02mai)                Rakotoarivo   \n",
      "43  HK-0043                         NaN                 RATSIZAFY    \n",
      "44  HK-0044                         NaN  RAMILIJAONA FANIRIANTSOA    \n",
      "45  HK-0045                         NaN         Randrianandrasana    \n",
      "46  HK-0046  18mars (formation lunette)                     Rakoto   \n",
      "47  HK-0047                         NaN             Rabemanotrona    \n",
      "48  HK-0048                   durant AG                Andriatiana   \n",
      "49  HK-0049                       mvola           NY ANDONAVALONA    \n",
      "50  HK-0050                       mvola             Randriamahaleo   \n",
      "\n",
      "                       prénoms                                     email  \\\n",
      "0                      Mializo                                       NaN   \n",
      "1                   Andoniaina                                       NaN   \n",
      "2                      Tyffani                                       NaN   \n",
      "3                    Deralaza                                        NaN   \n",
      "4                        Toky                                        NaN   \n",
      "5                      Mianoka                       mianoka@homemade.mg   \n",
      "6                     Ny Tsiky            rakotoson.ny.tsiky.m@gmail.com   \n",
      "7              Miora Heritiana                   miorahrabeony@gmail.com   \n",
      "8                      Herman                   herman.andriam@gmail.com   \n",
      "9                 Volasoa Elia                    eliavrandria@gmail.com   \n",
      "10         Koloina Razafinjato               rambelosonkoloina@gmail.com   \n",
      "11          Jean Miguel Haydon                    miguelhaydon@gmail.com   \n",
      "12            rojotiana daniel              rojotianadaniel805@gmail.com   \n",
      "13            Mamitina Rolando  mamitinarolandorandriamanarivo@gmail.com   \n",
      "14               Johariniaina                       007006abc@gmail.com    \n",
      "15                 Lanjaniaina                    lanjafaniry7@gmail.com   \n",
      "16                     Mickaël                  r.jaonamickael@gmail.com   \n",
      "17                Tysha Otanya                     Tyshaotanya@gmail.com   \n",
      "18                Tsiry Ny Avo                     fytianekena@gmail.com   \n",
      "19    Heriniaina tahina harvel                   ainaharvel924@gmail.com   \n",
      "20             Ando Heriniaina                   raharilavitra@gmail.com   \n",
      "21                          Zo               zoramanoelinirina@gmail.com   \n",
      "22          Mendrika Fitahiana             mendrikafitahiana19@gmail.com   \n",
      "23               Holy Danielle                       ampelagie@gmail.com   \n",
      "24              Miandra Edward                     miarana.raj@gmail.com   \n",
      "25                      Andréa      rakotonomenjanahary.andrea@gmail.com   \n",
      "26    Ny Antso Rivonantenaina                   tsirynasoavina@gmail.com   \n",
      "27                     Shaymah              Shaymahnoorhfabibi@gmail.com   \n",
      "28               Hasina Niaina                   hsnrazanakoto@gmail.com   \n",
      "29                     Mamisoa                 andriampirymami@gmail.com   \n",
      "30                     Andrea          andrearandrianandraina@gmail.com    \n",
      "31              Fitahianarisoa                 randriaharimino@gmail.com   \n",
      "32         Kanto Miora Jessica         jessicarasolofomandimby@gmail.com   \n",
      "33        Zo anja avotriniaina             avotrarakotoarisoa9@gmail.com   \n",
      "34               Dina Mandresy                dinamandresyrbrs@gmail.com   \n",
      "35   Harivola Ny Aina Céloréa                     harivolarnac@gmail.com   \n",
      "36        Fenosoa Andrianirina                   ratsimblaster@gmail.com   \n",
      "37                   Emmanuëla                   ing.emmanuela@gmail.com   \n",
      "38                Anjia Randia                      anjirandia@gmail.com   \n",
      "39                      Bénite                 benitetantely81@gmail.com   \n",
      "40  Herinandrianina Tojomanana               rherinandrianina@gmail.com    \n",
      "41               Olivier Ihary              iharyrazafindraibe@gmail.com   \n",
      "42                     Tanjona              rakotoarivotanjona@gmail.com   \n",
      "43      Lazandrainy Nathanael                       nratsizafy@gmail.com   \n",
      "44                 Lanjaniaina                    lanjafaniry7@gmail.com   \n",
      "45               Johariniaina   randrianandrasanajohariniaina@gmail.com    \n",
      "46               Tianaharivelo                    rakototiana4@gmail.com   \n",
      "47                     Fanoela                      fanoela011@gmail.com   \n",
      "48                        Mamy                   mamyandri2016@gmail.com   \n",
      "49           Hasina Gabrielle             nyandonavalonahasina@gmail.com   \n",
      "50              Mirana Baovola                        bbaovola@gmail.com   \n",
      "\n",
      "   Bénévolat  \n",
      "0        NaN  \n",
      "1        NaN  \n",
      "2        NaN  \n",
      "3        NaN  \n",
      "4        NaN  \n",
      "5        NaN  \n",
      "6        NaN  \n",
      "7        Non  \n",
      "8        Oui  \n",
      "9        Oui  \n",
      "10       Oui  \n",
      "11       Oui  \n",
      "12       Oui  \n",
      "13       Oui  \n",
      "14       Oui  \n",
      "15       Oui  \n",
      "16       Non  \n",
      "17       Oui  \n",
      "18       Oui  \n",
      "19       Oui  \n",
      "20       Oui  \n",
      "21       Non  \n",
      "22       Oui  \n",
      "23       Non  \n",
      "24       Non  \n",
      "25       Oui  \n",
      "26       Non  \n",
      "27       Oui  \n",
      "28       Oui  \n",
      "29       Oui  \n",
      "30       Oui  \n",
      "31       Oui  \n",
      "32       Oui  \n",
      "33       Oui  \n",
      "34       Oui  \n",
      "35       Oui  \n",
      "36       Oui  \n",
      "37       Oui  \n",
      "38       Oui  \n",
      "39       Oui  \n",
      "40       Non  \n",
      "41       Oui  \n",
      "42       Non  \n",
      "43       Oui  \n",
      "44       Oui  \n",
      "45       Oui  \n",
      "46       Non  \n",
      "47       Oui  \n",
      "48       Oui  \n",
      "49       Oui  \n",
      "50       Non  \n"
     ]
    }
   ],
   "source": [
    "#importation des données à partir du fichier excel et transfert vers la base\n",
    "data=pd.read_excel('C:/Users/Harivola RABEKOTO/Liste HAIKINTANA 2023.xlsx')\n",
    "data=data.drop(['Pôles','Commentaire'], axis=1) #on ne prend pas en compte les deux dernières colonnes du fichier excel\n",
    "data=data.rename(columns={'Numéro':'ID','E-mail':'email', 'Prénom(s)':'prénoms'}) #on change le label 'numéro' en 'ID' et celui 'e-mail' en 'email' pour faire correspondre cette colonne à celle de la table\n",
    "print(data)\n",
    "data.to_sql('membres', conn, if_exists='replace', index=False) #on ne prend pas en compte les index du dataframe dans la table"
   ]
  },
  {
   "cell_type": "code",
   "execution_count": 6,
   "metadata": {},
   "outputs": [
    {
     "ename": "OperationalError",
     "evalue": "duplicate column name: statut",
     "output_type": "error",
     "traceback": [
      "\u001b[1;31m---------------------------------------------------------------------------\u001b[0m",
      "\u001b[1;31mOperationalError\u001b[0m                          Traceback (most recent call last)",
      "\u001b[1;32m<ipython-input-6-6ba5ceabeae5>\u001b[0m in \u001b[0;36m<module>\u001b[1;34m\u001b[0m\n\u001b[0;32m      1\u001b[0m \u001b[1;31m#ajout des colonnes 'statut' et 'assiduité'\u001b[0m\u001b[1;33m\u001b[0m\u001b[1;33m\u001b[0m\u001b[1;33m\u001b[0m\u001b[0m\n\u001b[1;32m----> 2\u001b[1;33m \u001b[0mc\u001b[0m\u001b[1;33m.\u001b[0m\u001b[0mexecute\u001b[0m\u001b[1;33m(\u001b[0m\u001b[1;34m\"alter table membre add statut text\"\u001b[0m\u001b[1;33m)\u001b[0m\u001b[1;33m\u001b[0m\u001b[1;33m\u001b[0m\u001b[0m\n\u001b[0m\u001b[0;32m      3\u001b[0m \u001b[0mc\u001b[0m\u001b[1;33m.\u001b[0m\u001b[0mexecute\u001b[0m\u001b[1;33m(\u001b[0m\u001b[1;34m\"alter table membre add assiduité integer\"\u001b[0m\u001b[1;33m)\u001b[0m\u001b[1;33m\u001b[0m\u001b[1;33m\u001b[0m\u001b[0m\n",
      "\u001b[1;31mOperationalError\u001b[0m: duplicate column name: statut"
     ]
    }
   ],
   "source": [
    "#ajout des colonnes 'statut' et 'assiduité'\n",
    "c.execute(\"alter table membre add statut text\")\n",
    "c.execute(\"alter table membre add assiduité integer\")"
   ]
  },
  {
   "cell_type": "code",
   "execution_count": 7,
   "metadata": {},
   "outputs": [
    {
     "ename": "IntegrityError",
     "evalue": "UNIQUE constraint failed: pôle.nom_pôle",
     "output_type": "error",
     "traceback": [
      "\u001b[1;31m---------------------------------------------------------------------------\u001b[0m",
      "\u001b[1;31mIntegrityError\u001b[0m                            Traceback (most recent call last)",
      "\u001b[1;32m<ipython-input-7-35d70f63dd2d>\u001b[0m in \u001b[0;36m<module>\u001b[1;34m\u001b[0m\n\u001b[0;32m      6\u001b[0m     \u001b[1;33m(\u001b[0m\u001b[1;34m'développement et partenariat'\u001b[0m\u001b[1;33m,\u001b[0m\u001b[1;36m0\u001b[0m\u001b[1;33m)\u001b[0m\u001b[1;33m\u001b[0m\u001b[1;33m\u001b[0m\u001b[0m\n\u001b[0;32m      7\u001b[0m ]\n\u001b[1;32m----> 8\u001b[1;33m \u001b[0mc\u001b[0m\u001b[1;33m.\u001b[0m\u001b[0mexecutemany\u001b[0m\u001b[1;33m(\u001b[0m\u001b[1;34m\"insert into pôle values(?,?)\"\u001b[0m\u001b[1;33m,\u001b[0m\u001b[0mliste_pôles\u001b[0m\u001b[1;33m)\u001b[0m\u001b[1;33m\u001b[0m\u001b[1;33m\u001b[0m\u001b[0m\n\u001b[0m",
      "\u001b[1;31mIntegrityError\u001b[0m: UNIQUE constraint failed: pôle.nom_pôle"
     ]
    }
   ],
   "source": [
    "#remplissage de la table pôle\n",
    "liste_pôles=[\n",
    "    ('éducation',0),\n",
    "    ('outreach',0),\n",
    "    ('observation et instrumentation',0),\n",
    "    ('développement et partenariat',0)\n",
    "]\n",
    "c.executemany(\"INSERT INTO pôle values(?,?)\",liste_pôles)"
   ]
  },
  {
   "cell_type": "code",
   "execution_count": 8,
   "metadata": {},
   "outputs": [],
   "source": [
    "#remplacement des valeurs nulles en un texte \"aucun\"\n",
    "c.execute('UPDATE membre SET cotisation=\"non payé\" WHERE  cotisation IS NULL')\n",
    "c.execute('UPDATE membre SET email=\"inconnu\" WHERE email IS NULL')\n",
    "c.execute('UPDATE membre SET bénévolat=\"inconnu\" WHERE bénévolat IS NULL')\n",
    "c.execute('UPDATE membre SET statut=\"aucun\"')  \n",
    "c.execute('UPDATE membre SET assiduité=0 ')\n",
    "conn.commit()"
   ]
  },
  {
   "cell_type": "code",
   "execution_count": 4,
   "metadata": {},
   "outputs": [
    {
     "name": "stdout",
     "output_type": "stream",
     "text": [
      "Nom: Ralambomamy\n",
      "Prénoms: Tyffani\n",
      "Contact: inconnu\n",
      "Cotisation: non payé\n",
      "Bénévolat: inconnu\n",
      "Statut: vice-présidente\n",
      "Nombre d'activités assistées: 0\n",
      "\n"
     ]
    }
   ],
   "source": [
    "#affichage d'informations\n",
    "def info_membre(id_recherche):\n",
    "    c.execute(\"SELECT * FROM membre WHERE (ID)= (?)\",(id_recherche,))\n",
    "    informations_membre=c.fetchall()\n",
    "    #using for loop to move out of the list \n",
    "    for i in informations_membre:\n",
    "        print('Nom: '+ i[2] + '\\n'+\n",
    "              'Prénoms: '+ i[3] + '\\n'+\n",
    "             'Contact: '+ i[4] + '\\n'+\n",
    "             'Cotisation: '+ i[1] + '\\n'+\n",
    "             'Bénévolat: '+ i[5] + '\\n'+\n",
    "             'Statut: '+ i[6] + '\\n' +\n",
    "             'Nombre d\\'activités assistées: '+ str(i[7]) + '\\n')\n",
    "info_membre('HK-0002')"
   ]
  },
  {
   "cell_type": "code",
   "execution_count": 4,
   "metadata": {},
   "outputs": [
    {
     "name": "stdout",
     "output_type": "stream",
     "text": [
      "Identifiant \t Nom \t\t\t Prénoms \t Nombre d'activités assistées\n",
      "HK-0001\t\tRAJAONARIVELO\t\tAndoniaina\t\t1\n",
      "HK-0004\t\tRabarison\t\tToky \t\t1\n",
      "HK-0007\t\tRABEONY\t\tMiora Heritiana\t\t1\n",
      "HK-0011\t\tIALISOLONDRAIBE\t\tJean Miguel Haydon\t\t1\n",
      "HK-0013\t\tRANDRIAMANARIVO\t\tMamitina Rolando\t\t1\n",
      "HK-0030\t\tRandrianandraina\t\tAndrea \t\t1\n",
      "HK-0033\t\tRakotoarisoa\t\tZo anja avotriniaina\t\t1\n",
      "HK-0034\t\tRABARISON\t\tDina Mandresy\t\t1\n",
      "HK-0035\t\tRABEKOTO \t\tHarivola Ny Aina Céloréa \t\t1\n",
      "HK-0038\t\tRABARISOA\t\tAnjia Randia\t\t1\n",
      "HK-0040\t\tRALAIMANAMPISOA\t\tHerinandrianina Tojomanana\t\t1\n",
      "HK-0041\t\tRAZAFINDRAIBE\t\tOlivier Ihary\t\t1\n",
      "HK-0043\t\tRATSIZAFY \t\tLazandrainy Nathanael \t\t1\n",
      "HK-0048\t\tAndriatiana\t\tMamy\t\t1\n",
      "HK-0049\t\tNY ANDONAVALONA \t\tHasina Gabrielle \t\t1\n",
      "HK-0000\t\tRAZANAKOTO\t\tMializo\t\t0\n",
      "HK-0002\t\tRalambomamy\t\tTyffani\t\t0\n",
      "HK-0003\t\tRafieferantsoa\t\tDeralaza \t\t0\n",
      "HK-0005\t\tAndriamandroso\t\tMianoka\t\t0\n",
      "HK-0006\t\tRakotoson\t\tNy Tsiky\t\t0\n",
      "HK-0008\t\tRandriamanantena \t\tHerman \t\t0\n",
      "HK-0009\t\tRANDRIAMANANTENA\t\tVolasoa Elia\t\t0\n",
      "HK-0010\t\tRambeloson\t\tKoloina Razafinjato\t\t0\n",
      "HK-0012\t\trandrianandrasana \t\trojotiana daniel\t\t0\n",
      "HK-0014\t\tRandrianandrasana \t\tJohariniaina \t\t0\n",
      "HK-0015\t\tRAMILIJAONA FANIRIANTSOA \t\tLanjaniaina\t\t0\n",
      "HK-0016\t\tRatisarijaona\t\tMickaël\t\t0\n",
      "HK-0017\t\tAndriamady \t\tTysha Otanya\t\t0\n",
      "HK-0018\t\tFITIA NEKENA \t\tTsiry Ny Avo\t\t0\n",
      "HK-0019\t\tRakotondramanana\t\tHeriniaina tahina harvel\t\t0\n",
      "HK-0020\t\tRAHARILAVITRA\t\tAndo Heriniaina\t\t0\n",
      "HK-0021\t\tRAMANOELINIRINA\t\tZo\t\t0\n",
      "HK-0022\t\tRAZANADRAKOTO\t\tMendrika Fitahiana\t\t0\n",
      "HK-0023\t\tRabehaja\t\tHoly Danielle\t\t0\n",
      "HK-0024\t\tAndriantsialonina \t\tMiandra Edward\t\t0\n",
      "HK-0025\t\tRakotonomenjanahary\t\tAndréa\t\t0\n",
      "HK-0026\t\tFITIA MANAMPY \t\tNy Antso Rivonantenaina \t\t0\n",
      "HK-0027\t\tNoohrfadjan Bibi Ismaël \t\tShaymah\t\t0\n",
      "HK-0028\t\tRAZANAKOTO\t\tHasina Niaina\t\t0\n",
      "HK-0029\t\tRandriamanalina\t\tMamisoa\t\t0\n",
      "HK-0031\t\tRANDRIAHARIMINO\t\tFitahianarisoa\t\t0\n",
      "HK-0032\t\tRASOLOFOMANDIMBY\t\tKanto Miora Jessica\t\t0\n",
      "HK-0036\t\tRATSIMANDRESY\t\tFenosoa Andrianirina\t\t0\n",
      "HK-0037\t\tNARINDRANJANAHARY\t\tEmmanuëla\t\t0\n",
      "HK-0039\t\tTANTELY\t\tBénite\t\t0\n",
      "HK-0042\t\tRakotoarivo\t\tTanjona\t\t0\n",
      "HK-0044\t\tRAMILIJAONA FANIRIANTSOA \t\tLanjaniaina\t\t0\n",
      "HK-0045\t\tRandrianandrasana \t\tJohariniaina \t\t0\n",
      "HK-0046\t\tRakoto\t\tTianaharivelo\t\t0\n",
      "HK-0047\t\tRabemanotrona \t\tFanoela\t\t0\n",
      "HK-0050\t\tRandriamahaleo\t\tMirana Baovola\t\t0\n"
     ]
    }
   ],
   "source": [
    "def liste_selon_assiduité():\n",
    "    c.execute(\"SELECT ID, nom, prénoms, assiduité FROM membre ORDER BY assiduité DESC\")\n",
    "    liste_assiduite=c.fetchall()\n",
    "    print('Identifiant \\t Nom \\t\\t\\t Prénoms \\t Nombre d\\'activités assistées')\n",
    "    for i in liste_assiduite:\n",
    "        print(i[0] + '\\t\\t' + i[1] + '\\t\\t' + i[2] + '\\t\\t' + str(i[3]) )\n",
    "liste_selon_assiduité()"
   ]
  },
  {
   "cell_type": "code",
   "execution_count": 3,
   "metadata": {},
   "outputs": [
    {
     "name": "stdout",
     "output_type": "stream",
     "text": [
      "Entrez uniquement un chiffre de 1 à 7 \n",
      "6\n"
     ]
    }
   ],
   "source": [
    "#modification des données\n",
    "def modification_membre(id_recherche,colomne,donnee):\n",
    "    if colomne==1:\n",
    "        c.execute(\"UPDATE membre SET (nom)=(?) WHERE (ID)=(?)\",(donnee,id_recherche,))\n",
    "    elif colomne==2:\n",
    "        c.execute(\"UPDATE membre SET (prénoms)=(?) WHERE (ID)=(?)\",(donnee,id_recherche,))\n",
    "    elif colomne==3:\n",
    "        c.execute(\"UPDATE membre SET (email)=(?) WHERE (ID)=(?)\",(donnee,id_recherche,))\n",
    "    elif colomne==4:\n",
    "        c.execute(\"UPDATE membre SET (cotisation)=(?) WHERE (ID)=(?)\",(donnee,id_recherche,))\n",
    "    elif colomne==5:\n",
    "        c.execute(\"UPDATE membre SET (bénévolat)=(?) WHERE (ID)=(?)\",(donnee,id_recherche,))\n",
    "    elif colomne==6:\n",
    "        c.execute(\"UPDATE membre SET (statut)=(?) WHERE (ID)=(?)\",(donnee,id_recherche,))\n",
    "    elif colomne==7:\n",
    "        c.execute(\"UPDATE membre SET (assiduité)=(?) WHERE (ID)=(?)\",(donnee,id_recherche,))\n",
    "    else:\n",
    "        colomne=int(input('Entrez uniquement un chiffre de 1 à 7 \\n'))\n",
    "        modification_membre(id_recherche,colomne,donnee)\n",
    "    conn.commit()\n",
    "modification_membre('HK-0002',8, 'vice-présidente')"
   ]
  },
  {
   "cell_type": "code",
   "execution_count": null,
   "metadata": {},
   "outputs": [],
   "source": [
    "#ajout de ligne dans la table membres\n",
    "def ajout(liste_info):\n",
    "    c.execute('INSERT INTO membre(ID, cotisation, nom, prénoms, email, bénévolat, statut) VALUES(?,?,?,?,?,?,?)',(liste_info))"
   ]
  },
  {
   "cell_type": "code",
   "execution_count": 9,
   "metadata": {},
   "outputs": [],
   "source": [
    "#insertion d'informatioins d'une activité\n",
    "def creation_activite(intitule, date, lieu):\n",
    "    c.execute('INSERT INTO activité VALUES (?,?,?)',(intitule,date,lieu))\n",
    "    conn.commit()\n",
    "    \n",
    "creation_activite('On the moon again 2023', '23/06/2023', 'La City Ivandry')"
   ]
  },
  {
   "cell_type": "code",
   "execution_count": 4,
   "metadata": {},
   "outputs": [
    {
     "ename": "UnboundLocalError",
     "evalue": "local variable 'nombre' referenced before assignment",
     "output_type": "error",
     "traceback": [
      "\u001b[1;31m---------------------------------------------------------------------------\u001b[0m",
      "\u001b[1;31mUnboundLocalError\u001b[0m                         Traceback (most recent call last)",
      "\u001b[1;32m<ipython-input-4-cf7b8dedc6ca>\u001b[0m in \u001b[0;36m<module>\u001b[1;34m\u001b[0m\n\u001b[0;32m     18\u001b[0m     \u001b[0mc\u001b[0m\u001b[1;33m.\u001b[0m\u001b[0mexecute\u001b[0m\u001b[1;33m(\u001b[0m\u001b[1;34m'UPDATE pôle SET nombre_activités=(?) WHERE nom_pôle=(?)'\u001b[0m\u001b[1;33m,\u001b[0m\u001b[1;33m(\u001b[0m\u001b[0mnombre\u001b[0m\u001b[1;33m,\u001b[0m\u001b[0mpole\u001b[0m\u001b[1;33m,\u001b[0m\u001b[1;33m)\u001b[0m\u001b[1;33m)\u001b[0m\u001b[1;33m\u001b[0m\u001b[1;33m\u001b[0m\u001b[0m\n\u001b[0;32m     19\u001b[0m     \u001b[0mconn\u001b[0m\u001b[1;33m.\u001b[0m\u001b[0mcommit\u001b[0m\u001b[1;33m(\u001b[0m\u001b[1;33m)\u001b[0m\u001b[1;33m\u001b[0m\u001b[1;33m\u001b[0m\u001b[0m\n\u001b[1;32m---> 20\u001b[1;33m \u001b[0mpole_organisation\u001b[0m\u001b[1;33m(\u001b[0m\u001b[1;34m'observation et instrumentation'\u001b[0m\u001b[1;33m,\u001b[0m \u001b[1;34m'On the moon again 2023'\u001b[0m\u001b[1;33m)\u001b[0m\u001b[1;33m\u001b[0m\u001b[1;33m\u001b[0m\u001b[0m\n\u001b[0m",
      "\u001b[1;32m<ipython-input-4-cf7b8dedc6ca>\u001b[0m in \u001b[0;36mpole_organisation\u001b[1;34m(pole, intitule)\u001b[0m\n\u001b[0;32m     16\u001b[0m     \u001b[1;32mfor\u001b[0m \u001b[0mi\u001b[0m \u001b[1;32min\u001b[0m \u001b[0mquery_result\u001b[0m\u001b[1;33m:\u001b[0m\u001b[1;33m\u001b[0m\u001b[1;33m\u001b[0m\u001b[0m\n\u001b[0;32m     17\u001b[0m         \u001b[0mnombre\u001b[0m\u001b[1;33m=\u001b[0m\u001b[0mi\u001b[0m\u001b[1;33m[\u001b[0m\u001b[1;36m0\u001b[0m\u001b[1;33m]\u001b[0m\u001b[1;33m+\u001b[0m\u001b[1;36m1\u001b[0m\u001b[1;33m\u001b[0m\u001b[1;33m\u001b[0m\u001b[0m\n\u001b[1;32m---> 18\u001b[1;33m     \u001b[0mc\u001b[0m\u001b[1;33m.\u001b[0m\u001b[0mexecute\u001b[0m\u001b[1;33m(\u001b[0m\u001b[1;34m'UPDATE pôle SET nombre_activités=(?) WHERE nom_pôle=(?)'\u001b[0m\u001b[1;33m,\u001b[0m\u001b[1;33m(\u001b[0m\u001b[0mnombre\u001b[0m\u001b[1;33m,\u001b[0m\u001b[0mpole\u001b[0m\u001b[1;33m,\u001b[0m\u001b[1;33m)\u001b[0m\u001b[1;33m)\u001b[0m\u001b[1;33m\u001b[0m\u001b[1;33m\u001b[0m\u001b[0m\n\u001b[0m\u001b[0;32m     19\u001b[0m     \u001b[0mconn\u001b[0m\u001b[1;33m.\u001b[0m\u001b[0mcommit\u001b[0m\u001b[1;33m(\u001b[0m\u001b[1;33m)\u001b[0m\u001b[1;33m\u001b[0m\u001b[1;33m\u001b[0m\u001b[0m\n\u001b[0;32m     20\u001b[0m \u001b[0mpole_organisation\u001b[0m\u001b[1;33m(\u001b[0m\u001b[1;34m'observation et instrumentation'\u001b[0m\u001b[1;33m,\u001b[0m \u001b[1;34m'On the moon again 2023'\u001b[0m\u001b[1;33m)\u001b[0m\u001b[1;33m\u001b[0m\u001b[1;33m\u001b[0m\u001b[0m\n",
      "\u001b[1;31mUnboundLocalError\u001b[0m: local variable 'nombre' referenced before assignment"
     ]
    }
   ],
   "source": [
    "#relation entre une pôle et une activité et incréméntation du nombre d'activités de la pôle concernée\n",
    "def pole_organisation(pole, intitule):\n",
    "    if pole==1:\n",
    "        nom_pole=\"outreach\"\n",
    "    elif pole==2:\n",
    "        nom_pole=\"éducation\"\n",
    "    elif pole==3:\n",
    "        nom_pole=\"observation et instrumentation\"\n",
    "    elif pole==4:\n",
    "        nom_pole=\"développement et partenariat\"\n",
    "    c.execute('INSERT INTO pôle_activité VALUES (?,?)',(nom_pole,intitule))\n",
    "    c.execute('SELECT nombre_activités FROM pôle WHERE nom_pôle=(?)',(nom_pole,))\n",
    "    query_result=c.fetchall()\n",
    "    for i in query_result:\n",
    "        nombre=i[0]+1\n",
    "    c.execute('UPDATE pôle SET nombre_activités=(?) WHERE nom_pôle=(?)',(nombre,nom_pole,))\n",
    "    conn.commit()\n",
    "pole_organisation('observation et instrumentation', 'On the moon again 2023')"
   ]
  },
  {
   "cell_type": "code",
   "execution_count": null,
   "metadata": {},
   "outputs": [],
   "source": [
    "#relation entre un membre et une activité et incréméntation de l'assiduité du membre concerné\n",
    "def presence(id_present,intitule):\n",
    "    c.execute('INSERT INTO membre_activité VALUES (?,?)',(id_present,intitule))\n",
    "    c.execute('SELECT assiduité FROM membre WHERE ID=(?)',(id_present, ))\n",
    "    query_result=c.fetchall()\n",
    "    for i in query_result:\n",
    "        nombre=i[0]+1\n",
    "    c.execute('UPDATE membre SET assiduité=(?) WHERE ID=(?)',(nombre,id_present,))\n",
    "    conn.commit()"
   ]
  },
  {
   "cell_type": "code",
   "execution_count": 17,
   "metadata": {},
   "outputs": [
    {
     "name": "stdout",
     "output_type": "stream",
     "text": [
      "Nombre de membres présents: 15\n",
      "Liste de présence à l'activité:\n",
      "Identifiant \t Nom \t\t\t Prénoms \n",
      "HK-0001\t\tRAJAONARIVELO\t\tAndoniaina\n",
      "HK-0004\t\tRabarison\t\tToky \n",
      "HK-0007\t\tRABEONY\t\tMiora Heritiana\n",
      "HK-0011\t\tIALISOLONDRAIBE\t\tJean Miguel Haydon\n",
      "HK-0013\t\tRANDRIAMANARIVO\t\tMamitina Rolando\n",
      "HK-0030\t\tRandrianandraina\t\tAndrea \n",
      "HK-0033\t\tRakotoarisoa\t\tZo anja avotriniaina\n",
      "HK-0034\t\tRABARISON\t\tDina Mandresy\n",
      "HK-0035\t\tRABEKOTO \t\tHarivola Ny Aina Céloréa \n",
      "HK-0038\t\tRABARISOA\t\tAnjia Randia\n",
      "HK-0040\t\tRALAIMANAMPISOA\t\tHerinandrianina Tojomanana\n",
      "HK-0041\t\tRAZAFINDRAIBE\t\tOlivier Ihary\n",
      "HK-0043\t\tRATSIZAFY \t\tLazandrainy Nathanael \n",
      "HK-0048\t\tAndriatiana\t\tMamy\n",
      "HK-0049\t\tNY ANDONAVALONA \t\tHasina Gabrielle \n"
     ]
    }
   ],
   "source": [
    "#affichage de la liste de présence à une activité donnée en paramètre et le nombre de membres l'ayant assisté\n",
    "def liste_presence(intitule):\n",
    "    c.execute('SELECT COUNT(*) FROM membre_activité WHERE activité=(?)',(intitule,))\n",
    "    nombre=c.fetchall()\n",
    "    for i in nombre:\n",
    "        nombre=i[0]\n",
    "    print('Nombre de membres présents:',nombre)\n",
    "    c.execute('SELECT ID, nom, prénoms FROM membre WHERE ID IN (SELECT ID_membre FROM membre_activité WHERE activité=(?))',(intitule,))\n",
    "    liste=c.fetchall()\n",
    "    print ('Liste de présence à l\\'activité:')\n",
    "    print('Identifiant \\t Nom \\t\\t\\t Prénoms ')\n",
    "    for i in liste:\n",
    "        print(i[0] + '\\t\\t' + i[1] + '\\t\\t' + i[2] )\n",
    "liste_presence('Formation Besely 1')"
   ]
  },
  {
   "cell_type": "code",
   "execution_count": 18,
   "metadata": {},
   "outputs": [],
   "source": [
    "#fermeture de la connexion\n",
    "conn.close()"
   ]
  },
  {
   "cell_type": "code",
   "execution_count": null,
   "metadata": {},
   "outputs": [],
   "source": []
  }
 ],
 "metadata": {
  "kernelspec": {
   "display_name": "Python 3",
   "language": "python",
   "name": "python3"
  },
  "language_info": {
   "codemirror_mode": {
    "name": "ipython",
    "version": 3
   },
   "file_extension": ".py",
   "mimetype": "text/x-python",
   "name": "python",
   "nbconvert_exporter": "python",
   "pygments_lexer": "ipython3",
   "version": "3.8.5"
  }
 },
 "nbformat": 4,
 "nbformat_minor": 4
}
