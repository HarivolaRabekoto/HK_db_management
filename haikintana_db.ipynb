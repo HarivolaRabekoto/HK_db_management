{
 "cells": [
  {
   "cell_type": "code",
   "execution_count": 1,
   "metadata": {},
   "outputs": [],
   "source": [
    "import pandas as pd"
   ]
  },
  {
   "cell_type": "code",
   "execution_count": 10,
   "metadata": {},
   "outputs": [
    {
     "data": {
      "text/html": [
       "<div>\n",
       "<style scoped>\n",
       "    .dataframe tbody tr th:only-of-type {\n",
       "        vertical-align: middle;\n",
       "    }\n",
       "\n",
       "    .dataframe tbody tr th {\n",
       "        vertical-align: top;\n",
       "    }\n",
       "\n",
       "    .dataframe thead th {\n",
       "        text-align: right;\n",
       "    }\n",
       "</style>\n",
       "<table border=\"1\" class=\"dataframe\">\n",
       "  <thead>\n",
       "    <tr style=\"text-align: right;\">\n",
       "      <th></th>\n",
       "      <th>Numéro</th>\n",
       "      <th>Cotisation</th>\n",
       "      <th>Nom</th>\n",
       "      <th>Prénom(s)</th>\n",
       "      <th>E-mail</th>\n",
       "      <th>Bénévolat</th>\n",
       "      <th>Pôles</th>\n",
       "      <th>Commentaire</th>\n",
       "    </tr>\n",
       "  </thead>\n",
       "  <tbody>\n",
       "    <tr>\n",
       "      <th>0</th>\n",
       "      <td>HK-0000</td>\n",
       "      <td>NaN</td>\n",
       "      <td>RAZANAKOTO</td>\n",
       "      <td>Mializo</td>\n",
       "      <td>NaN</td>\n",
       "      <td>NaN</td>\n",
       "      <td>NaN</td>\n",
       "      <td>NaN</td>\n",
       "    </tr>\n",
       "    <tr>\n",
       "      <th>1</th>\n",
       "      <td>HK-0001</td>\n",
       "      <td>NaN</td>\n",
       "      <td>RAJAONARIVELO</td>\n",
       "      <td>Andoniaina</td>\n",
       "      <td>NaN</td>\n",
       "      <td>NaN</td>\n",
       "      <td>NaN</td>\n",
       "      <td>NaN</td>\n",
       "    </tr>\n",
       "    <tr>\n",
       "      <th>2</th>\n",
       "      <td>HK-0002</td>\n",
       "      <td>NaN</td>\n",
       "      <td>Ralambomamy</td>\n",
       "      <td>Tyffani</td>\n",
       "      <td>NaN</td>\n",
       "      <td>NaN</td>\n",
       "      <td>NaN</td>\n",
       "      <td>NaN</td>\n",
       "    </tr>\n",
       "    <tr>\n",
       "      <th>3</th>\n",
       "      <td>HK-0003</td>\n",
       "      <td>NaN</td>\n",
       "      <td>Rafieferantsoa</td>\n",
       "      <td>Deralaza</td>\n",
       "      <td>NaN</td>\n",
       "      <td>NaN</td>\n",
       "      <td>NaN</td>\n",
       "      <td>NaN</td>\n",
       "    </tr>\n",
       "    <tr>\n",
       "      <th>4</th>\n",
       "      <td>HK-0004</td>\n",
       "      <td>NaN</td>\n",
       "      <td>Rabarison</td>\n",
       "      <td>Toky</td>\n",
       "      <td>NaN</td>\n",
       "      <td>NaN</td>\n",
       "      <td>NaN</td>\n",
       "      <td>NaN</td>\n",
       "    </tr>\n",
       "  </tbody>\n",
       "</table>\n",
       "</div>"
      ],
      "text/plain": [
       "    Numéro Cotisation             Nom   Prénom(s) E-mail Bénévolat Pôles  \\\n",
       "0  HK-0000        NaN      RAZANAKOTO     Mializo    NaN       NaN   NaN   \n",
       "1  HK-0001        NaN   RAJAONARIVELO  Andoniaina    NaN       NaN   NaN   \n",
       "2  HK-0002        NaN     Ralambomamy     Tyffani    NaN       NaN   NaN   \n",
       "3  HK-0003        NaN  Rafieferantsoa   Deralaza     NaN       NaN   NaN   \n",
       "4  HK-0004        NaN       Rabarison       Toky     NaN       NaN   NaN   \n",
       "\n",
       "  Commentaire  \n",
       "0         NaN  \n",
       "1         NaN  \n",
       "2         NaN  \n",
       "3         NaN  \n",
       "4         NaN  "
      ]
     },
     "execution_count": 10,
     "metadata": {},
     "output_type": "execute_result"
    }
   ],
   "source": [
    "data=pd.read_excel('Liste HAIKINTANA 2023.xlsx', )"
   ]
  },
  {
   "cell_type": "code",
   "execution_count": null,
   "metadata": {},
   "outputs": [],
   "source": []
  },
  {
   "cell_type": "code",
   "execution_count": null,
   "metadata": {},
   "outputs": [],
   "source": []
  }
 ],
 "metadata": {
  "kernelspec": {
   "display_name": "Python 3",
   "language": "python",
   "name": "python3"
  },
  "language_info": {
   "codemirror_mode": {
    "name": "ipython",
    "version": 3
   },
   "file_extension": ".py",
   "mimetype": "text/x-python",
   "name": "python",
   "nbconvert_exporter": "python",
   "pygments_lexer": "ipython3",
   "version": "3.8.5"
  }
 },
 "nbformat": 4,
 "nbformat_minor": 4
}
