{
 "cells": [
  {
   "cell_type": "code",
   "execution_count": 16,
   "metadata": {},
   "outputs": [],
   "source": [
    "import pandas as pd\n",
    "from sqlalchemy import create_engine\n",
    "import sqlite3"
   ]
  },
  {
   "cell_type": "code",
   "execution_count": 17,
   "metadata": {},
   "outputs": [],
   "source": [
    "#établissement de la connexion à la base de données et création du curseur\n",
    "conn = sqlite3.connect(\"haikintana.db\")\n",
    "c= conn.cursor()"
   ]
  },
  {
   "cell_type": "code",
   "execution_count": 18,
   "metadata": {},
   "outputs": [
    {
     "data": {
      "text/plain": [
       "<sqlite3.Cursor at 0x29710673110>"
      ]
     },
     "execution_count": 18,
     "metadata": {},
     "output_type": "execute_result"
    }
   ],
   "source": [
    "#création des tables\n",
    "c.execute(\"create table if not exists membres (ID text Primary Key, cotisation text, nom text, prénoms text, email text, bénévolat text, statut text, assiduité text)\")\n",
    "c.execute(\"create table if not exists activité(intitulé text Primary Key, date text, lieu text)\")\n",
    "c.execute(\"create table if not exists pôle(nom_pôle text Primary Key, nombre_activités integer)\")"
   ]
  },
  {
   "cell_type": "code",
   "execution_count": 29,
   "metadata": {},
   "outputs": [
    {
     "name": "stdout",
     "output_type": "stream",
     "text": [
      "         ID                  Cotisation                        Nom  \\\n",
      "0   HK-0000                         NaN                 RAZANAKOTO   \n",
      "1   HK-0001                         NaN              RAJAONARIVELO   \n",
      "2   HK-0002                         NaN                Ralambomamy   \n",
      "3   HK-0003                         NaN             Rafieferantsoa   \n",
      "4   HK-0004                         NaN                  Rabarison   \n",
      "5   HK-0005                        payé             Andriamandroso   \n",
      "6   HK-0006                         NaN                  Rakotoson   \n",
      "7   HK-0007                   durant AG                    RABEONY   \n",
      "8   HK-0008                   durant AG          Randriamanantena    \n",
      "9   HK-0009                   durant AG           RANDRIAMANANTENA   \n",
      "10  HK-0010               mvola(09mars)                 Rambeloson   \n",
      "11  HK-0011                   durant AG            IALISOLONDRAIBE   \n",
      "12  HK-0012                   durant AG         randrianandrasana    \n",
      "13  HK-0013                   durant AG            RANDRIAMANARIVO   \n",
      "14  HK-0014                         NaN         Randrianandrasana    \n",
      "15  HK-0015                         NaN  RAMILIJAONA FANIRIANTSOA    \n",
      "16  HK-0016                   durant AG              Ratisarijaona   \n",
      "17  HK-0017                         NaN                Andriamady    \n",
      "18  HK-0018                   durant AG              FITIA NEKENA    \n",
      "19  HK-0019                         NaN           Rakotondramanana   \n",
      "20  HK-0020                   durant AG              RAHARILAVITRA   \n",
      "21  HK-0021               mvola(09mars)            RAMANOELINIRINA   \n",
      "22  HK-0022                         NaN              RAZANADRAKOTO   \n",
      "23  HK-0023   18mars(formation lunette)                   Rabehaja   \n",
      "24  HK-0024                   durant AG         Andriantsialonina    \n",
      "25  HK-0025                   durant AG        Rakotonomenjanahary   \n",
      "26  HK-0026                         NaN             FITIA MANAMPY    \n",
      "27  HK-0027                         NaN   Noohrfadjan Bibi Ismaël    \n",
      "28  HK-0028                         NaN                 RAZANAKOTO   \n",
      "29  HK-0029                   durant AG            Randriamanalina   \n",
      "30  HK-0030                   durant AG           Randrianandraina   \n",
      "31  HK-0031                   durant AG            RANDRIAHARIMINO   \n",
      "32  HK-0032                   durant AG           RASOLOFOMANDIMBY   \n",
      "33  HK-0033             mvola (21 mars)               Rakotoarisoa   \n",
      "34  HK-0034                         NaN                  RABARISON   \n",
      "35  HK-0035                       mvola                  RABEKOTO    \n",
      "36  HK-0036                   Durant AG              RATSIMANDRESY   \n",
      "37  HK-0037                   Durant AG          NARINDRANJANAHARY   \n",
      "38  HK-0038                   durant AG                  RABARISOA   \n",
      "39  HK-0039                         NaN                    TANTELY   \n",
      "40  HK-0040                         NaN            RALAIMANAMPISOA   \n",
      "41  HK-0041          Mvola (20 fevrier)              RAZAFINDRAIBE   \n",
      "42  HK-0042               Mvola (02mai)                Rakotoarivo   \n",
      "43  HK-0043                         NaN                 RATSIZAFY    \n",
      "44  HK-0044                         NaN  RAMILIJAONA FANIRIANTSOA    \n",
      "45  HK-0045                         NaN         Randrianandrasana    \n",
      "46  HK-0046  18mars (formation lunette)                     Rakoto   \n",
      "47  HK-0047                         NaN             Rabemanotrona    \n",
      "48  HK-0048                   durant AG                Andriatiana   \n",
      "49  HK-0049                       mvola           NY ANDONAVALONA    \n",
      "50  HK-0050                       mvola             Randriamahaleo   \n",
      "\n",
      "                     Prénom(s)                                    E-mail  \\\n",
      "0                      Mializo                                       NaN   \n",
      "1                   Andoniaina                                       NaN   \n",
      "2                      Tyffani                                       NaN   \n",
      "3                    Deralaza                                        NaN   \n",
      "4                        Toky                                        NaN   \n",
      "5                      Mianoka                       mianoka@homemade.mg   \n",
      "6                     Ny Tsiky            rakotoson.ny.tsiky.m@gmail.com   \n",
      "7              Miora Heritiana                   miorahrabeony@gmail.com   \n",
      "8                      Herman                   herman.andriam@gmail.com   \n",
      "9                 Volasoa Elia                    eliavrandria@gmail.com   \n",
      "10         Koloina Razafinjato               rambelosonkoloina@gmail.com   \n",
      "11          Jean Miguel Haydon                    miguelhaydon@gmail.com   \n",
      "12            rojotiana daniel              rojotianadaniel805@gmail.com   \n",
      "13            Mamitina Rolando  mamitinarolandorandriamanarivo@gmail.com   \n",
      "14               Johariniaina                       007006abc@gmail.com    \n",
      "15                 Lanjaniaina                    lanjafaniry7@gmail.com   \n",
      "16                     Mickaël                  r.jaonamickael@gmail.com   \n",
      "17                Tysha Otanya                     Tyshaotanya@gmail.com   \n",
      "18                Tsiry Ny Avo                     fytianekena@gmail.com   \n",
      "19    Heriniaina tahina harvel                   ainaharvel924@gmail.com   \n",
      "20             Ando Heriniaina                   raharilavitra@gmail.com   \n",
      "21                          Zo               zoramanoelinirina@gmail.com   \n",
      "22          Mendrika Fitahiana             mendrikafitahiana19@gmail.com   \n",
      "23               Holy Danielle                       ampelagie@gmail.com   \n",
      "24              Miandra Edward                     miarana.raj@gmail.com   \n",
      "25                      Andréa      rakotonomenjanahary.andrea@gmail.com   \n",
      "26    Ny Antso Rivonantenaina                   tsirynasoavina@gmail.com   \n",
      "27                     Shaymah              Shaymahnoorhfabibi@gmail.com   \n",
      "28               Hasina Niaina                   hsnrazanakoto@gmail.com   \n",
      "29                     Mamisoa                 andriampirymami@gmail.com   \n",
      "30                     Andrea          andrearandrianandraina@gmail.com    \n",
      "31              Fitahianarisoa                 randriaharimino@gmail.com   \n",
      "32         Kanto Miora Jessica         jessicarasolofomandimby@gmail.com   \n",
      "33        Zo anja avotriniaina             avotrarakotoarisoa9@gmail.com   \n",
      "34               Dina Mandresy                dinamandresyrbrs@gmail.com   \n",
      "35   Harivola Ny Aina Céloréa                     harivolarnac@gmail.com   \n",
      "36        Fenosoa Andrianirina                   ratsimblaster@gmail.com   \n",
      "37                   Emmanuëla                   ing.emmanuela@gmail.com   \n",
      "38                Anjia Randia                      anjirandia@gmail.com   \n",
      "39                      Bénite                 benitetantely81@gmail.com   \n",
      "40  Herinandrianina Tojomanana               rherinandrianina@gmail.com    \n",
      "41               Olivier Ihary              iharyrazafindraibe@gmail.com   \n",
      "42                     Tanjona              rakotoarivotanjona@gmail.com   \n",
      "43      Lazandrainy Nathanael                       nratsizafy@gmail.com   \n",
      "44                 Lanjaniaina                    lanjafaniry7@gmail.com   \n",
      "45               Johariniaina   randrianandrasanajohariniaina@gmail.com    \n",
      "46               Tianaharivelo                    rakototiana4@gmail.com   \n",
      "47                     Fanoela                      fanoela011@gmail.com   \n",
      "48                        Mamy                   mamyandri2016@gmail.com   \n",
      "49           Hasina Gabrielle             nyandonavalonahasina@gmail.com   \n",
      "50              Mirana Baovola                        bbaovola@gmail.com   \n",
      "\n",
      "   Bénévolat  \n",
      "0        NaN  \n",
      "1        NaN  \n",
      "2        NaN  \n",
      "3        NaN  \n",
      "4        NaN  \n",
      "5        NaN  \n",
      "6        NaN  \n",
      "7        Non  \n",
      "8        Oui  \n",
      "9        Oui  \n",
      "10       Oui  \n",
      "11       Oui  \n",
      "12       Oui  \n",
      "13       Oui  \n",
      "14       Oui  \n",
      "15       Oui  \n",
      "16       Non  \n",
      "17       Oui  \n",
      "18       Oui  \n",
      "19       Oui  \n",
      "20       Oui  \n",
      "21       Non  \n",
      "22       Oui  \n",
      "23       Non  \n",
      "24       Non  \n",
      "25       Oui  \n",
      "26       Non  \n",
      "27       Oui  \n",
      "28       Oui  \n",
      "29       Oui  \n",
      "30       Oui  \n",
      "31       Oui  \n",
      "32       Oui  \n",
      "33       Oui  \n",
      "34       Oui  \n",
      "35       Oui  \n",
      "36       Oui  \n",
      "37       Oui  \n",
      "38       Oui  \n",
      "39       Oui  \n",
      "40       Non  \n",
      "41       Oui  \n",
      "42       Non  \n",
      "43       Oui  \n",
      "44       Oui  \n",
      "45       Oui  \n",
      "46       Non  \n",
      "47       Oui  \n",
      "48       Oui  \n",
      "49       Oui  \n",
      "50       Non  \n"
     ]
    }
   ],
   "source": [
    "#importation des données à partir du fichier excel et transfert vers la base\n",
    "data=pd.read_excel('C:/Users/Harivola RABEKOTO/Liste HAIKINTANA 2023.xlsx')\n",
    "data=data.drop(['Pôles','Commentaire'], axis=1) #on ne prend pas en compte les deux dernières colonnes du fichier excel\n",
    "data=data.rename(columns={'Numéro':'ID'}) #on change le label 'numéro' en 'ID' pour faire correspondre cette colonne à celle de la table\n",
    "print(data)\n",
    "data.to_sql('membres', conn, if_exists='replace',index=False)"
   ]
  },
  {
   "cell_type": "code",
   "execution_count": 20,
   "metadata": {},
   "outputs": [
    {
     "ename": "IntegrityError",
     "evalue": "UNIQUE constraint failed: pôle.nom_pôle",
     "output_type": "error",
     "traceback": [
      "\u001b[1;31m---------------------------------------------------------------------------\u001b[0m",
      "\u001b[1;31mIntegrityError\u001b[0m                            Traceback (most recent call last)",
      "\u001b[1;32m<ipython-input-20-35d70f63dd2d>\u001b[0m in \u001b[0;36m<module>\u001b[1;34m\u001b[0m\n\u001b[0;32m      6\u001b[0m     \u001b[1;33m(\u001b[0m\u001b[1;34m'développement et partenariat'\u001b[0m\u001b[1;33m,\u001b[0m\u001b[1;36m0\u001b[0m\u001b[1;33m)\u001b[0m\u001b[1;33m\u001b[0m\u001b[1;33m\u001b[0m\u001b[0m\n\u001b[0;32m      7\u001b[0m ]\n\u001b[1;32m----> 8\u001b[1;33m \u001b[0mc\u001b[0m\u001b[1;33m.\u001b[0m\u001b[0mexecutemany\u001b[0m\u001b[1;33m(\u001b[0m\u001b[1;34m\"insert into pôle values(?,?)\"\u001b[0m\u001b[1;33m,\u001b[0m\u001b[0mliste_pôles\u001b[0m\u001b[1;33m)\u001b[0m\u001b[1;33m\u001b[0m\u001b[1;33m\u001b[0m\u001b[0m\n\u001b[0m",
      "\u001b[1;31mIntegrityError\u001b[0m: UNIQUE constraint failed: pôle.nom_pôle"
     ]
    }
   ],
   "source": [
    "#remplissage de la table pôle\n",
    "liste_pôles=[\n",
    "    ('éducation',0),\n",
    "    ('outreach',0),\n",
    "    ('observation et instrumentation',0),\n",
    "    ('développement et partenariat',0)\n",
    "]\n",
    "c.executemany(\"insert into pôle values(?,?)\",liste_pôles)"
   ]
  },
  {
   "cell_type": "code",
   "execution_count": 34,
   "metadata": {},
   "outputs": [
    {
     "ename": "SyntaxError",
     "evalue": "invalid syntax (<ipython-input-34-9463c84802ed>, line 5)",
     "output_type": "error",
     "traceback": [
      "\u001b[1;36m  File \u001b[1;32m\"<ipython-input-34-9463c84802ed>\"\u001b[1;36m, line \u001b[1;32m5\u001b[0m\n\u001b[1;33m    c.execute('update membres set i[j]= 'Aucun' ')\u001b[0m\n\u001b[1;37m                                         ^\u001b[0m\n\u001b[1;31mSyntaxError\u001b[0m\u001b[1;31m:\u001b[0m invalid syntax\n"
     ]
    }
   ],
   "source": [
    "#remplacement des valeurs nulles en un texte \"aucun\"\n",
    "for i in c.execute('select* from membres'):\n",
    "    for j in range (7):\n",
    "        if isnull(i[j]):\n",
    "            c.execute('update membres set i[j]= 'Aucun' ')"
   ]
  },
  {
   "cell_type": "code",
   "execution_count": 31,
   "metadata": {},
   "outputs": [
    {
     "ename": "TypeError",
     "evalue": "can only concatenate str (not \"NoneType\") to str",
     "output_type": "error",
     "traceback": [
      "\u001b[1;31m---------------------------------------------------------------------------\u001b[0m",
      "\u001b[1;31mTypeError\u001b[0m                                 Traceback (most recent call last)",
      "\u001b[1;32m<ipython-input-31-9a0d54d27847>\u001b[0m in \u001b[0;36m<module>\u001b[1;34m\u001b[0m\n\u001b[0;32m     12\u001b[0m              \u001b[1;34m'Statut: '\u001b[0m\u001b[1;33m+\u001b[0m \u001b[0mi\u001b[0m\u001b[1;33m[\u001b[0m\u001b[1;36m6\u001b[0m\u001b[1;33m]\u001b[0m \u001b[1;33m+\u001b[0m \u001b[1;34m'\\n'\u001b[0m \u001b[1;33m+\u001b[0m\u001b[1;33m\u001b[0m\u001b[1;33m\u001b[0m\u001b[0m\n\u001b[0;32m     13\u001b[0m              'Nombre d\\'activités assistées: '+ str(i[7]) + '\\n')\n\u001b[1;32m---> 14\u001b[1;33m \u001b[0minfo_membre\u001b[0m\u001b[1;33m(\u001b[0m\u001b[1;34m'HK-0000'\u001b[0m\u001b[1;33m)\u001b[0m\u001b[1;33m\u001b[0m\u001b[1;33m\u001b[0m\u001b[0m\n\u001b[0m",
      "\u001b[1;32m<ipython-input-31-9a0d54d27847>\u001b[0m in \u001b[0;36minfo_membre\u001b[1;34m(id_recherche)\u001b[0m\n\u001b[0;32m      5\u001b[0m     \u001b[1;31m#using for loop to move out of the list\u001b[0m\u001b[1;33m\u001b[0m\u001b[1;33m\u001b[0m\u001b[1;33m\u001b[0m\u001b[0m\n\u001b[0;32m      6\u001b[0m     \u001b[1;32mfor\u001b[0m \u001b[0mi\u001b[0m \u001b[1;32min\u001b[0m \u001b[0minformations_membre\u001b[0m\u001b[1;33m:\u001b[0m\u001b[1;33m\u001b[0m\u001b[1;33m\u001b[0m\u001b[0m\n\u001b[1;32m----> 7\u001b[1;33m         print('Nom: '+ i[2] + '\\n'+\n\u001b[0m\u001b[0;32m      8\u001b[0m               \u001b[1;34m'Prénoms: '\u001b[0m\u001b[1;33m+\u001b[0m \u001b[0mi\u001b[0m\u001b[1;33m[\u001b[0m\u001b[1;36m3\u001b[0m\u001b[1;33m]\u001b[0m \u001b[1;33m+\u001b[0m \u001b[1;34m'\\n'\u001b[0m\u001b[1;33m+\u001b[0m\u001b[1;33m\u001b[0m\u001b[1;33m\u001b[0m\u001b[0m\n\u001b[0;32m      9\u001b[0m              \u001b[1;34m'Contact: '\u001b[0m\u001b[1;33m+\u001b[0m \u001b[0mi\u001b[0m\u001b[1;33m[\u001b[0m\u001b[1;36m4\u001b[0m\u001b[1;33m]\u001b[0m \u001b[1;33m+\u001b[0m \u001b[1;34m'\\n'\u001b[0m\u001b[1;33m+\u001b[0m\u001b[1;33m\u001b[0m\u001b[1;33m\u001b[0m\u001b[0m\n",
      "\u001b[1;31mTypeError\u001b[0m: can only concatenate str (not \"NoneType\") to str"
     ]
    }
   ],
   "source": [
    "#affichage d'informations\n",
    "def info_membre(id_recherche):\n",
    "    c.execute(\"select * from membres where (ID)= (?)\",(id_recherche,))\n",
    "    informations_membre=c.fetchall()\n",
    "    #using for loop to move out of the list \n",
    "    for i in informations_membre:\n",
    "        print('Nom: '+ i[2] + '\\n'+\n",
    "              'Prénoms: '+ i[3] + '\\n'+\n",
    "             'Contact: '+ i[4] + '\\n'+\n",
    "             'Cotisation: '+ i[1] + '\\n'+\n",
    "             'Bénévolat: '+ i[5] + '\\n'+\n",
    "             'Statut: '+ i[6] + '\\n' +\n",
    "             'Nombre d\\'activités assistées: '+ str(i[7]) + '\\n')\n",
    "info_membre('HK-0000')"
   ]
  },
  {
   "cell_type": "code",
   "execution_count": 32,
   "metadata": {},
   "outputs": [
    {
     "name": "stdout",
     "output_type": "stream",
     "text": [
      "('HK-0000', None, 'RAZANAKOTO', 'Mializo', None, None)\n",
      "('HK-0001', None, 'RAJAONARIVELO', 'Andoniaina', None, None)\n",
      "('HK-0002', None, 'Ralambomamy', 'Tyffani', None, None)\n",
      "('HK-0003', None, 'Rafieferantsoa', 'Deralaza ', None, None)\n",
      "('HK-0004', None, 'Rabarison', 'Toky ', None, None)\n",
      "('HK-0005', 'payé', 'Andriamandroso', 'Mianoka', 'mianoka@homemade.mg', None)\n",
      "('HK-0006', None, 'Rakotoson', 'Ny Tsiky', 'rakotoson.ny.tsiky.m@gmail.com', None)\n",
      "('HK-0007', 'durant AG', 'RABEONY', 'Miora Heritiana', 'miorahrabeony@gmail.com', 'Non')\n",
      "('HK-0008', 'durant AG', 'Randriamanantena ', 'Herman ', 'herman.andriam@gmail.com', 'Oui')\n",
      "('HK-0009', 'durant AG', 'RANDRIAMANANTENA', 'Volasoa Elia', 'eliavrandria@gmail.com', 'Oui')\n",
      "('HK-0010', 'mvola(09mars)', 'Rambeloson', 'Koloina Razafinjato', 'rambelosonkoloina@gmail.com', 'Oui')\n",
      "('HK-0011', 'durant AG', 'IALISOLONDRAIBE', 'Jean Miguel Haydon', 'miguelhaydon@gmail.com', 'Oui')\n",
      "('HK-0012', 'durant AG', 'randrianandrasana ', 'rojotiana daniel', 'rojotianadaniel805@gmail.com', 'Oui')\n",
      "('HK-0013', 'durant AG', 'RANDRIAMANARIVO', 'Mamitina Rolando', 'mamitinarolandorandriamanarivo@gmail.com', 'Oui')\n",
      "('HK-0014', None, 'Randrianandrasana ', 'Johariniaina ', '007006abc@gmail.com ', 'Oui')\n",
      "('HK-0015', None, 'RAMILIJAONA FANIRIANTSOA ', 'Lanjaniaina', 'lanjafaniry7@gmail.com', 'Oui')\n",
      "('HK-0016', 'durant AG', 'Ratisarijaona', 'Mickaël', 'r.jaonamickael@gmail.com', 'Non')\n",
      "('HK-0017', None, 'Andriamady ', 'Tysha Otanya', 'Tyshaotanya@gmail.com', 'Oui')\n",
      "('HK-0018', 'durant AG', 'FITIA NEKENA ', 'Tsiry Ny Avo', 'fytianekena@gmail.com', 'Oui')\n",
      "('HK-0019', None, 'Rakotondramanana', 'Heriniaina tahina harvel', 'ainaharvel924@gmail.com', 'Oui')\n",
      "('HK-0020', 'durant AG', 'RAHARILAVITRA', 'Ando Heriniaina', 'raharilavitra@gmail.com', 'Oui')\n",
      "('HK-0021', 'mvola(09mars)', 'RAMANOELINIRINA', 'Zo', 'zoramanoelinirina@gmail.com', 'Non')\n",
      "('HK-0022', None, 'RAZANADRAKOTO', 'Mendrika Fitahiana', 'mendrikafitahiana19@gmail.com', 'Oui')\n",
      "('HK-0023', '18mars(formation lunette)', 'Rabehaja', 'Holy Danielle', 'ampelagie@gmail.com', 'Non')\n",
      "('HK-0024', 'durant AG', 'Andriantsialonina ', 'Miandra Edward', 'miarana.raj@gmail.com', 'Non')\n",
      "('HK-0025', 'durant AG', 'Rakotonomenjanahary', 'Andréa', 'rakotonomenjanahary.andrea@gmail.com', 'Oui')\n",
      "('HK-0026', None, 'FITIA MANAMPY ', 'Ny Antso Rivonantenaina ', 'tsirynasoavina@gmail.com', 'Non')\n",
      "('HK-0027', None, 'Noohrfadjan Bibi Ismaël ', 'Shaymah', 'Shaymahnoorhfabibi@gmail.com', 'Oui')\n",
      "('HK-0028', None, 'RAZANAKOTO', 'Hasina Niaina', 'hsnrazanakoto@gmail.com', 'Oui')\n",
      "('HK-0029', 'durant AG', 'Randriamanalina', 'Mamisoa', 'andriampirymami@gmail.com', 'Oui')\n",
      "('HK-0030', 'durant AG', 'Randrianandraina', 'Andrea ', 'andrearandrianandraina@gmail.com ', 'Oui')\n",
      "('HK-0031', 'durant AG', 'RANDRIAHARIMINO', 'Fitahianarisoa', 'randriaharimino@gmail.com', 'Oui')\n",
      "('HK-0032', 'durant AG', 'RASOLOFOMANDIMBY', 'Kanto Miora Jessica', 'jessicarasolofomandimby@gmail.com', 'Oui')\n",
      "('HK-0033', 'mvola (21 mars)', 'Rakotoarisoa', 'Zo anja avotriniaina', 'avotrarakotoarisoa9@gmail.com', 'Oui')\n",
      "('HK-0034', None, 'RABARISON', 'Dina Mandresy', 'dinamandresyrbrs@gmail.com', 'Oui')\n",
      "('HK-0035', 'mvola', 'RABEKOTO ', 'Harivola Ny Aina Céloréa ', 'harivolarnac@gmail.com', 'Oui')\n",
      "('HK-0036', 'Durant AG', 'RATSIMANDRESY', 'Fenosoa Andrianirina', 'ratsimblaster@gmail.com', 'Oui')\n",
      "('HK-0037', 'Durant AG', 'NARINDRANJANAHARY', 'Emmanuëla', 'ing.emmanuela@gmail.com', 'Oui')\n",
      "('HK-0038', 'durant AG', 'RABARISOA', 'Anjia Randia', 'anjirandia@gmail.com', 'Oui')\n",
      "('HK-0039', None, 'TANTELY', 'Bénite', 'benitetantely81@gmail.com', 'Oui')\n",
      "('HK-0040', None, 'RALAIMANAMPISOA', 'Herinandrianina Tojomanana', 'rherinandrianina@gmail.com ', 'Non')\n",
      "('HK-0041', 'Mvola (20 fevrier)', 'RAZAFINDRAIBE', 'Olivier Ihary', 'iharyrazafindraibe@gmail.com', 'Oui')\n",
      "('HK-0042', 'Mvola (02mai)', 'Rakotoarivo', 'Tanjona', 'rakotoarivotanjona@gmail.com', 'Non')\n",
      "('HK-0043', None, 'RATSIZAFY ', 'Lazandrainy Nathanael ', 'nratsizafy@gmail.com', 'Oui')\n",
      "('HK-0044', None, 'RAMILIJAONA FANIRIANTSOA ', 'Lanjaniaina', 'lanjafaniry7@gmail.com', 'Oui')\n",
      "('HK-0045', None, 'Randrianandrasana ', 'Johariniaina ', 'randrianandrasanajohariniaina@gmail.com ', 'Oui')\n",
      "('HK-0046', '18mars (formation lunette)', 'Rakoto', 'Tianaharivelo', 'rakototiana4@gmail.com', 'Non')\n",
      "('HK-0047', None, 'Rabemanotrona ', 'Fanoela', 'fanoela011@gmail.com', 'Oui')\n",
      "('HK-0048', 'durant AG', 'Andriatiana', 'Mamy', 'mamyandri2016@gmail.com', 'Oui')\n",
      "('HK-0049', 'mvola', 'NY ANDONAVALONA ', 'Hasina Gabrielle ', 'nyandonavalonahasina@gmail.com', 'Oui')\n",
      "('HK-0050', 'mvola', 'Randriamahaleo', 'Mirana Baovola', 'bbaovola@gmail.com', 'Non')\n",
      "('éducation', 0)\n",
      "('outreach', 0)\n",
      "('observation et instrumentation', 0)\n",
      "('développement et partenariat', 0)\n"
     ]
    }
   ],
   "source": [
    "#vérification base de données\n",
    "for row in c.execute(\"select * from membres\"):\n",
    "    print(row)\n",
    "for row in c.execute(\"select * from pôle\"):\n",
    "    print(row)"
   ]
  },
  {
   "cell_type": "code",
   "execution_count": 11,
   "metadata": {},
   "outputs": [],
   "source": [
    "#fermeture de la connexion\n",
    "conn.close()"
   ]
  },
  {
   "cell_type": "code",
   "execution_count": null,
   "metadata": {},
   "outputs": [],
   "source": []
  }
 ],
 "metadata": {
  "kernelspec": {
   "display_name": "Python 3",
   "language": "python",
   "name": "python3"
  },
  "language_info": {
   "codemirror_mode": {
    "name": "ipython",
    "version": 3
   },
   "file_extension": ".py",
   "mimetype": "text/x-python",
   "name": "python",
   "nbconvert_exporter": "python",
   "pygments_lexer": "ipython3",
   "version": "3.8.5"
  }
 },
 "nbformat": 4,
 "nbformat_minor": 4
}
