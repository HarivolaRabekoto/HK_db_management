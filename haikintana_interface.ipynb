{
 "cells": [
  {
   "cell_type": "code",
   "execution_count": 1,
   "metadata": {},
   "outputs": [],
   "source": [
    "from db import * "
   ]
  },
  {
   "cell_type": "code",
   "execution_count": 2,
   "metadata": {},
   "outputs": [
    {
     "name": "stdout",
     "output_type": "stream",
     "text": [
      "Entrez un identifiant\n",
      "HK-0040\n",
      "Nom: RALAIMANAMPISOA\n",
      "Prénoms: Herinandrianina Tojomanana\n",
      "Contact: rherinandrianina@gmail.com \n",
      "Cotisation: non payé\n",
      "Bénévolat: Non\n",
      "Statut: aucun\n",
      "Nombre d'activités assistées: 0\n",
      "\n",
      "Voulez-vous apporter une modification à ce membre? Entrez 1 ou 2 \n",
      " 1.Oui \n",
      " 2.Non \n",
      "1\n",
      "Quelle information voulez-vous modifier? Choisissez entre 1 et 7 \n",
      " 1.Nom \n",
      " 2.Prénom \n",
      " 3.Contact \n",
      " 4.Cotisation \n",
      " 5.Bénévolat \n",
      " 6.Statut \n",
      " 7.Nombre d'activités assistées \n",
      "9\n",
      "Entrez la nouvelle donnée \n",
      "trésorier\n",
      "Entrez uniquement un chiffre de 1 à 7 \n",
      "6\n",
      "Voici la version modifiée:\n",
      "HK-0040\n",
      "Nom: RALAIMANAMPISOA\n",
      "Prénoms: Herinandrianina Tojomanana\n",
      "Contact: rherinandrianina@gmail.com \n",
      "Cotisation: non payé\n",
      "Bénévolat: Non\n",
      "Statut: trésorier\n",
      "Nombre d'activités assistées: 0\n",
      "\n",
      "Voulez-vous apporter une autre modification à ce membre? Entrez 1 ou 2 \n",
      " 1.Oui \n",
      " 2.Non \n",
      "2\n"
     ]
    }
   ],
   "source": [
    "id_recherche=input('Entrez un identifiant\\n')\n",
    "info_membre(id_recherche)\n",
    "\n",
    "choix=input('Voulez-vous apporter une modification à ce membre? Entrez 1 ou 2 \\n 1.Oui \\n 2.Non \\n')\n",
    "while choix=='1':\n",
    "    colomne= int(input('Quelle information voulez-vous modifier? Choisissez entre 1 et 7 \\n 1.Nom \\n 2.Prénom \\n 3.Contact \\n 4.Cotisation \\n 5.Bénévolat \\n 6.Statut \\n 7.Nombre d\\'activités assistées \\n'))\n",
    "    donnee= input('Entrez la nouvelle donnée \\n')\n",
    "    modification_membre(id_recherche,colomne,donnee)\n",
    "    print('Voici la version modifiée:')\n",
    "    print (id_recherche)\n",
    "    info_membre(id_recherche)\n",
    "    choix=input('Voulez-vous apporter une autre modification à ce membre? Entrez 1 ou 2 \\n 1.Oui \\n 2.Non \\n')"
   ]
  },
  {
   "cell_type": "code",
   "execution_count": 2,
   "metadata": {},
   "outputs": [
    {
     "name": "stdout",
     "output_type": "stream",
     "text": [
      "Identifiant \t Nom \t\t\t Prénoms \t Nombre d'activités assistées\n",
      "HK-0000\t\tRAZANAKOTO\t\tMializo\t\t0\n",
      "HK-0001\t\tRAJAONARIVELO\t\tAndoniaina\t\t0\n",
      "HK-0002\t\tRalambomamy\t\tTyffani\t\t0\n",
      "HK-0003\t\tRafieferantsoa\t\tDeralaza \t\t0\n",
      "HK-0004\t\tRabarison\t\tToky \t\t0\n",
      "HK-0005\t\tAndriamandroso\t\tMianoka\t\t0\n",
      "HK-0006\t\tRakotoson\t\tNy Tsiky\t\t0\n",
      "HK-0007\t\tRABEONY\t\tMiora Heritiana\t\t0\n",
      "HK-0008\t\tRandriamanantena \t\tHerman \t\t0\n",
      "HK-0009\t\tRANDRIAMANANTENA\t\tVolasoa Elia\t\t0\n",
      "HK-0010\t\tRambeloson\t\tKoloina Razafinjato\t\t0\n",
      "HK-0011\t\tIALISOLONDRAIBE\t\tJean Miguel Haydon\t\t0\n",
      "HK-0012\t\trandrianandrasana \t\trojotiana daniel\t\t0\n",
      "HK-0013\t\tRANDRIAMANARIVO\t\tMamitina Rolando\t\t0\n",
      "HK-0014\t\tRandrianandrasana \t\tJohariniaina \t\t0\n",
      "HK-0015\t\tRAMILIJAONA FANIRIANTSOA \t\tLanjaniaina\t\t0\n",
      "HK-0016\t\tRatisarijaona\t\tMickaël\t\t0\n",
      "HK-0017\t\tAndriamady \t\tTysha Otanya\t\t0\n",
      "HK-0018\t\tFITIA NEKENA \t\tTsiry Ny Avo\t\t0\n",
      "HK-0019\t\tRakotondramanana\t\tHeriniaina tahina harvel\t\t0\n",
      "HK-0020\t\tRAHARILAVITRA\t\tAndo Heriniaina\t\t0\n",
      "HK-0021\t\tRAMANOELINIRINA\t\tZo\t\t0\n",
      "HK-0022\t\tRAZANADRAKOTO\t\tMendrika Fitahiana\t\t0\n",
      "HK-0023\t\tRabehaja\t\tHoly Danielle\t\t0\n",
      "HK-0024\t\tAndriantsialonina \t\tMiandra Edward\t\t0\n",
      "HK-0025\t\tRakotonomenjanahary\t\tAndréa\t\t0\n",
      "HK-0026\t\tFITIA MANAMPY \t\tNy Antso Rivonantenaina \t\t0\n",
      "HK-0027\t\tNoohrfadjan Bibi Ismaël \t\tShaymah\t\t0\n",
      "HK-0028\t\tRAZANAKOTO\t\tHasina Niaina\t\t0\n",
      "HK-0029\t\tRandriamanalina\t\tMamisoa\t\t0\n",
      "HK-0030\t\tRandrianandraina\t\tAndrea \t\t0\n",
      "HK-0031\t\tRANDRIAHARIMINO\t\tFitahianarisoa\t\t0\n",
      "HK-0032\t\tRASOLOFOMANDIMBY\t\tKanto Miora Jessica\t\t0\n",
      "HK-0033\t\tRakotoarisoa\t\tZo anja avotriniaina\t\t0\n",
      "HK-0034\t\tRABARISON\t\tDina Mandresy\t\t0\n",
      "HK-0035\t\tRABEKOTO \t\tHarivola Ny Aina Céloréa \t\t0\n",
      "HK-0036\t\tRATSIMANDRESY\t\tFenosoa Andrianirina\t\t0\n",
      "HK-0037\t\tNARINDRANJANAHARY\t\tEmmanuëla\t\t0\n",
      "HK-0038\t\tRABARISOA\t\tAnjia Randia\t\t0\n",
      "HK-0039\t\tTANTELY\t\tBénite\t\t0\n",
      "HK-0040\t\tRALAIMANAMPISOA\t\tHerinandrianina Tojomanana\t\t0\n",
      "HK-0041\t\tRAZAFINDRAIBE\t\tOlivier Ihary\t\t0\n",
      "HK-0042\t\tRakotoarivo\t\tTanjona\t\t0\n",
      "HK-0043\t\tRATSIZAFY \t\tLazandrainy Nathanael \t\t0\n",
      "HK-0044\t\tRAMILIJAONA FANIRIANTSOA \t\tLanjaniaina\t\t0\n",
      "HK-0045\t\tRandrianandrasana \t\tJohariniaina \t\t0\n",
      "HK-0046\t\tRakoto\t\tTianaharivelo\t\t0\n",
      "HK-0047\t\tRabemanotrona \t\tFanoela\t\t0\n",
      "HK-0048\t\tAndriatiana\t\tMamy\t\t0\n",
      "HK-0049\t\tNY ANDONAVALONA \t\tHasina Gabrielle \t\t0\n",
      "HK-0050\t\tRandriamahaleo\t\tMirana Baovola\t\t0\n"
     ]
    }
   ],
   "source": [
    "liste_selon_assiduité()"
   ]
  },
  {
   "cell_type": "code",
   "execution_count": null,
   "metadata": {},
   "outputs": [],
   "source": []
  }
 ],
 "metadata": {
  "kernelspec": {
   "display_name": "Python 3",
   "language": "python",
   "name": "python3"
  },
  "language_info": {
   "codemirror_mode": {
    "name": "ipython",
    "version": 3
   },
   "file_extension": ".py",
   "mimetype": "text/x-python",
   "name": "python",
   "nbconvert_exporter": "python",
   "pygments_lexer": "ipython3",
   "version": "3.8.5"
  }
 },
 "nbformat": 4,
 "nbformat_minor": 4
}
