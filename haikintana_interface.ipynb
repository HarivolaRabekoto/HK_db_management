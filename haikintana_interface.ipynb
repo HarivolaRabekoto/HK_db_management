{
 "cells": [
  {
   "cell_type": "code",
   "execution_count": 1,
   "metadata": {},
   "outputs": [],
   "source": [
    "from db import * "
   ]
  },
  {
   "cell_type": "code",
   "execution_count": 2,
   "metadata": {},
   "outputs": [
    {
     "name": "stdout",
     "output_type": "stream",
     "text": [
      "Entrez un identifiant\n",
      "A\n",
      "L'identifiant n'existe pas, veuillez en insérer un autre\n",
      "HK-0000\n",
      "Nom: RAZANAKOTO\n",
      "Prénoms: Mializo\n",
      "Contact: inconnu\n",
      "Cotisation: non payé\n",
      "Bénévolat: inconnu\n",
      "Statut: présidente\n",
      "Nombre d'activités assistées: 0\n",
      "\n",
      "Voulez-vous apporter une modification à ce membre? Entrez 1 ou 2 \n",
      " 1.Oui \n",
      " 2.Non \n",
      "2\n"
     ]
    }
   ],
   "source": [
    "#affichage des informations d'un membre à partir de son identifiant \n",
    "check=True\n",
    "id_recherche=input('Entrez un identifiant\\n')\n",
    "check=info_membre(id_recherche)\n",
    "#on redemande l'entrée d'un nouvel identifiant quand check a la valeur False qui signifierait que l'identifiant est inexistant\n",
    "while (not check):\n",
    "    id_recherche=input('L\\'identifiant n\\'existe pas, veuillez en insérer un autre\\n')\n",
    "    check=info_membre(id_recherche)\n",
    "\n",
    "#modification des informations du membre\n",
    "choix=input('Voulez-vous apporter une modification à ce membre? Entrez 1 ou 2 \\n 1.Oui \\n 2.Non \\n')\n",
    "while choix=='1':\n",
    "    colomne= int(input('Quelle information voulez-vous modifier? Choisissez entre 1 et 7 \\n 1.Nom \\n 2.Prénom \\n 3.Contact \\n 4.Cotisation \\n 5.Bénévolat \\n 6.Statut \\n 7.Nombre d\\'activités assistées \\n 8.Pôle'))\n",
    "    donnee= input('Entrez la nouvelle donnée \\n')\n",
    "    modification_membre(id_recherche,colomne,donnee)\n",
    "    print('Voici la version modifiée:')\n",
    "    print (id_recherche)\n",
    "    info_membre(id_recherche)\n",
    "    choix=input('Voulez-vous apporter une autre modification à ce membre? Entrez 1 ou 2 \\n 1.Oui \\n 2.Non \\n')"
   ]
  },
  {
   "cell_type": "code",
   "execution_count": null,
   "metadata": {},
   "outputs": [
    {
     "name": "stdout",
     "output_type": "stream",
     "text": [
      "ID:  HK-0052\n"
     ]
    }
   ],
   "source": [
    "#ajout de membre\n",
    "ID=next_id()\n",
    "print('ID: ',ID)\n",
    "nom= input('Nom:  ')\n",
    "prenom=input('Prénom:  ')\n",
    "email=input('Email:  ')\n",
    "cot= input('Cotisation (date de payement ou non payé):  ')\n",
    "ben= input('Bénévolat (oui ou non):  ')\n",
    "stat= input('Statut:  ')\n",
    "liste_info=(ID, cot, nom, prenom, email, ben, stat)\n",
    "ajout_membre(liste_info)\n",
    "print('Nouveau membre ajouté:')\n",
    "info_membre(ID)"
   ]
  },
  {
   "cell_type": "code",
   "execution_count": 3,
   "metadata": {},
   "outputs": [
    {
     "name": "stdout",
     "output_type": "stream",
     "text": [
      "Identifiant \t Nom \t\t\t Prénoms \t Nombre d'activités assistées\n",
      "HK-0001\t\tRAJAONARIVELO\t\tAndoniaina\t\t1\n",
      "HK-0004\t\tRabarison\t\tToky \t\t1\n",
      "HK-0007\t\tRABEONY\t\tMiora Heritiana\t\t1\n",
      "HK-0011\t\tIALISOLONDRAIBE\t\tJean Miguel Haydon\t\t1\n",
      "HK-0013\t\tRANDRIAMANARIVO\t\tMamitina Rolando\t\t1\n",
      "HK-0030\t\tRandrianandraina\t\tAndrea \t\t1\n",
      "HK-0033\t\tRakotoarisoa\t\tZo anja avotriniaina\t\t1\n",
      "HK-0034\t\tRABARISON\t\tDina Mandresy\t\t1\n",
      "HK-0035\t\tRABEKOTO \t\tHarivola Ny Aina Céloréa \t\t1\n",
      "HK-0038\t\tRABARISOA\t\tAnjia Randia\t\t1\n",
      "HK-0040\t\tRALAIMANAMPISOA\t\tHerinandrianina Tojomanana\t\t1\n",
      "HK-0041\t\tRAZAFINDRAIBE\t\tOlivier Ihary\t\t1\n",
      "HK-0043\t\tRATSIZAFY \t\tLazandrainy Nathanael \t\t1\n",
      "HK-0048\t\tAndriatiana\t\tMamy\t\t1\n",
      "HK-0049\t\tNY ANDONAVALONA \t\tHasina Gabrielle \t\t1\n",
      "HK-0000\t\tRAZANAKOTO\t\tMializo\t\t0\n",
      "HK-0002\t\tRalambomamy\t\tTyffani\t\t0\n",
      "HK-0003\t\tRafieferantsoa\t\tDeralaza \t\t0\n",
      "HK-0005\t\tAndriamandroso\t\tMianoka\t\t0\n",
      "HK-0006\t\tRakotoson\t\tNy Tsiky\t\t0\n",
      "HK-0008\t\tRandriamanantena \t\tHerman \t\t0\n",
      "HK-0009\t\tRANDRIAMANANTENA\t\tVolasoa Elia\t\t0\n",
      "HK-0010\t\tRambeloson\t\tKoloina Razafinjato\t\t0\n",
      "HK-0012\t\trandrianandrasana \t\trojotiana daniel\t\t0\n",
      "HK-0014\t\tRandrianandrasana \t\tJohariniaina \t\t0\n",
      "HK-0015\t\tRAMILIJAONA FANIRIANTSOA \t\tLanjaniaina\t\t0\n",
      "HK-0016\t\tRatisarijaona\t\tMickaël\t\t0\n",
      "HK-0017\t\tAndriamady \t\tTysha Otanya\t\t0\n",
      "HK-0018\t\tFITIA NEKENA \t\tTsiry Ny Avo\t\t0\n",
      "HK-0019\t\tRakotondramanana\t\tHeriniaina tahina harvel\t\t0\n",
      "HK-0020\t\tRAHARILAVITRA\t\tAndo Heriniaina\t\t0\n",
      "HK-0021\t\tRAMANOELINIRINA\t\tZo\t\t0\n",
      "HK-0022\t\tRAZANADRAKOTO\t\tMendrika Fitahiana\t\t0\n",
      "HK-0023\t\tRabehaja\t\tHoly Danielle\t\t0\n",
      "HK-0024\t\tAndriantsialonina \t\tMiandra Edward\t\t0\n",
      "HK-0025\t\tRakotonomenjanahary\t\tAndréa\t\t0\n",
      "HK-0026\t\tFITIA MANAMPY \t\tNy Antso Rivonantenaina \t\t0\n",
      "HK-0027\t\tNoohrfadjan Bibi Ismaël \t\tShaymah\t\t0\n",
      "HK-0028\t\tRAZANAKOTO\t\tHasina Niaina\t\t0\n",
      "HK-0029\t\tRandriamanalina\t\tMamisoa\t\t0\n",
      "HK-0031\t\tRANDRIAHARIMINO\t\tFitahianarisoa\t\t0\n",
      "HK-0032\t\tRASOLOFOMANDIMBY\t\tKanto Miora Jessica\t\t0\n",
      "HK-0036\t\tRATSIMANDRESY\t\tFenosoa Andrianirina\t\t0\n",
      "HK-0037\t\tNARINDRANJANAHARY\t\tEmmanuëla\t\t0\n",
      "HK-0039\t\tTANTELY\t\tBénite\t\t0\n",
      "HK-0042\t\tRakotoarivo\t\tTanjona\t\t0\n",
      "HK-0044\t\tRAMILIJAONA FANIRIANTSOA \t\tLanjaniaina\t\t0\n",
      "HK-0045\t\tRandrianandrasana \t\tJohariniaina \t\t0\n",
      "HK-0046\t\tRakoto\t\tTianaharivelo\t\t0\n",
      "HK-0047\t\tRabemanotrona \t\tFanoela\t\t0\n",
      "HK-0050\t\tRandriamahaleo\t\tMirana Baovola\t\t0\n"
     ]
    }
   ],
   "source": [
    "liste_selon_assiduité()"
   ]
  },
  {
   "cell_type": "code",
   "execution_count": 2,
   "metadata": {},
   "outputs": [
    {
     "name": "stdout",
     "output_type": "stream",
     "text": [
      "Créer une activité:\n",
      "Intitulé:\n",
      "Formation Besely 1\n",
      "Date:\n",
      "09/09/2023\n",
      "Lieu:\n",
      "IFM Lab\n",
      "Insérer entre 1 et 4 pour ajouter une pôle d'organisation et 0 si vous avez terminé:\n",
      " 1.Outreach\n",
      " 2.Education \n",
      " 3.Observation et instrumentation\n",
      " 4.Développement et partenariat \n",
      "3\n",
      "Insérer entre 1 et 4 pour ajouter une pôle d'organisation et 0 si vous avez terminé:\n",
      " 1.Outreach\n",
      " 2.Education \n",
      " 3.Observation et instrumentation\n",
      " 4.Développement et partenariat \n",
      "0\n",
      "Insérer votre identifiant ou 0 si vous avez terminé:\n",
      " HK-0001\n",
      "Insérer votre identifiant ou 0 si vous avez terminé:\n",
      " HK-0011\n",
      "Insérer votre identifiant ou 0 si vous avez terminé:\n",
      " HK-0040\n",
      "Insérer votre identifiant ou 0 si vous avez terminé:\n",
      " HK-0041\n",
      "Insérer votre identifiant ou 0 si vous avez terminé:\n",
      " HK-0035\n",
      "Insérer votre identifiant ou 0 si vous avez terminé:\n",
      " HK-0007\n",
      "Insérer votre identifiant ou 0 si vous avez terminé:\n",
      " HK-0048\n",
      "Insérer votre identifiant ou 0 si vous avez terminé:\n",
      " HK-0034\n",
      "Insérer votre identifiant ou 0 si vous avez terminé:\n",
      " HK-0004\n",
      "Insérer votre identifiant ou 0 si vous avez terminé:\n",
      " HK-0033\n",
      "Insérer votre identifiant ou 0 si vous avez terminé:\n",
      " HK-0038\n",
      "Insérer votre identifiant ou 0 si vous avez terminé:\n",
      " HK-0043\n",
      "Insérer votre identifiant ou 0 si vous avez terminé:\n",
      " HK-0030\n",
      "Insérer votre identifiant ou 0 si vous avez terminé:\n",
      " HK-0049\n",
      "Insérer votre identifiant ou 0 si vous avez terminé:\n",
      " HK-0013\n",
      "Insérer votre identifiant ou 0 si vous avez terminé:\n",
      " 0\n"
     ]
    }
   ],
   "source": [
    "#création d'une activité\n",
    "print('Créer une activité:')\n",
    "intitule=input('Intitulé:\\n')\n",
    "date=input('Date:\\n')\n",
    "lieu=input('Lieu:\\n')\n",
    "creation_activite(intitule, date, lieu)\n",
    "\n",
    "#ajout des pôles d'organisation\n",
    "pole=int(input('Insérer entre 1 et 4 pour ajouter une pôle d\\'organisation et 0 si vous avez terminé:\\n 1.Outreach\\n 2.Education \\n 3.Observation et instrumentation\\n 4.Développement et partenariat \\n'))\n",
    "while pole!=0:\n",
    "    pole_organisation(pole,intitule)\n",
    "    pole=int(input('Insérer entre 1 et 4 pour ajouter une pôle d\\'organisation et 0 si vous avez terminé:\\n 1.Outreach\\n 2.Education \\n 3.Observation et instrumentation\\n 4.Développement et partenariat \\n'))\n",
    "                   \n",
    "#présence \n",
    "id_present=input('Insérer votre identifiant ou 0 si vous avez terminé:\\n ')\n",
    "while id_present!='0':\n",
    "    check=True\n",
    "    check=presence(id_present,intitule)\n",
    "    while(not check):\n",
    "        id_present=input('Identifiant inexistant. Veuillez réessayer:')\n",
    "        check=presence(id_present,intitule)\n",
    "    id_present=input('Insérer votre identifiant ou 0 si vous avez terminé:\\n ')"
   ]
  },
  {
   "cell_type": "code",
   "execution_count": 2,
   "metadata": {},
   "outputs": [
    {
     "name": "stdout",
     "output_type": "stream",
     "text": [
      "Entrez l'intitulé d'une activité: \n",
      "a\n",
      "L\u0007ctivité est introuvable, réessayez: \n",
      "b\n",
      "L\u0007ctivité est introuvable, réessayez: \n",
      "Formation Besely 1\n",
      "Nombre de membres présents: 15\n",
      "Liste de présence à l'activité:\n",
      "Identifiant \t Nom \t\t\t Prénoms \n",
      "HK-0001\t\tRAJAONARIVELO\t\tAndoniaina\n",
      "HK-0004\t\tRabarison\t\tToky \n",
      "HK-0007\t\tRABEONY\t\tMiora Heritiana\n",
      "HK-0011\t\tIALISOLONDRAIBE\t\tJean Miguel Haydon\n",
      "HK-0013\t\tRANDRIAMANARIVO\t\tMamitina Rolando\n",
      "HK-0030\t\tRandrianandraina\t\tAndrea \n",
      "HK-0033\t\tRakotoarisoa\t\tZo anja avotriniaina\n",
      "HK-0034\t\tRABARISON\t\tDina Mandresy\n",
      "HK-0035\t\tRABEKOTO \t\tHarivola Ny Aina Céloréa \n",
      "HK-0038\t\tRABARISOA\t\tAnjia Randia\n",
      "HK-0040\t\tRALAIMANAMPISOA\t\tHerinandrianina Tojomanana\n",
      "HK-0041\t\tRAZAFINDRAIBE\t\tOlivier Ihary\n",
      "HK-0043\t\tRATSIZAFY \t\tLazandrainy Nathanael \n",
      "HK-0048\t\tAndriatiana\t\tMamy\n",
      "HK-0049\t\tNY ANDONAVALONA \t\tHasina Gabrielle \n"
     ]
    }
   ],
   "source": [
    "#affichage de la liste de présence à une activité\n",
    "check=True\n",
    "intitule=input('Entrez l\\'intitulé d\\'une activité: \\n')\n",
    "check=liste_presence(intitule)\n",
    "while (not check):\n",
    "    intitule=input('L\\'activité est introuvable, réessayez: \\n')\n",
    "    check=liste_presence(intitule)"
   ]
  },
  {
   "cell_type": "code",
   "execution_count": null,
   "metadata": {},
   "outputs": [],
   "source": []
  }
 ],
 "metadata": {
  "kernelspec": {
   "display_name": "Python 3",
   "language": "python",
   "name": "python3"
  },
  "language_info": {
   "codemirror_mode": {
    "name": "ipython",
    "version": 3
   },
   "file_extension": ".py",
   "mimetype": "text/x-python",
   "name": "python",
   "nbconvert_exporter": "python",
   "pygments_lexer": "ipython3",
   "version": "3.8.5"
  }
 },
 "nbformat": 4,
 "nbformat_minor": 4
}
